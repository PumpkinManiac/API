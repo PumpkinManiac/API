{
 "cells": [
  {
   "cell_type": "code",
   "execution_count": 1,
   "id": "edf66811-78fb-4b65-830b-820b6d597fdf",
   "metadata": {},
   "outputs": [
    {
     "name": "stderr",
     "output_type": "stream",
     "text": [
      "WARNING:absl:Compiled the loaded model, but the compiled metrics have yet to be built. `model.compile_metrics` will be empty until you train or evaluate the model.\n"
     ]
    },
    {
     "name": "stdout",
     "output_type": "stream",
     "text": [
      "Model Output Shape: (None, 40)\n"
     ]
    }
   ],
   "source": [
    "import tensorflow as tf\n",
    "\n",
    "model = tf.keras.models.load_model(\"medicinal_plant_classifier.h5\")\n",
    "print(f\"Model Output Shape: {model.output_shape}\")\n"
   ]
  },
  {
   "cell_type": "code",
   "execution_count": 1,
   "id": "fd4ab276-9bd8-4456-81ac-2a0fb2ee501b",
   "metadata": {},
   "outputs": [],
   "source": [
    "import requests"
   ]
  },
  {
   "cell_type": "code",
   "execution_count": 4,
   "id": "2c848bc1-c9f3-4cfa-a604-59d9c62f5172",
   "metadata": {},
   "outputs": [
    {
     "name": "stdout",
     "output_type": "stream",
     "text": [
      "{'message': 'File received!'}\n"
     ]
    }
   ],
   "source": [
    "url = \"http://127.0.0.1:5000/predict\"\n",
    "files = {'file': open(r'C:\\Users\\preml\\Desktop\\Indian Medicinal Leaves Image Datasets\\Medicinal plant dataset\\Neem\\599.jpg', 'rb')}  # Make sure this file exists\n",
    "\n",
    "response = requests.post(url, files=files)\n",
    "print(response.json())\n"
   ]
  },
  {
   "cell_type": "code",
   "execution_count": null,
   "id": "39ae8d95-9686-45ff-93c2-9aaa8922e587",
   "metadata": {},
   "outputs": [],
   "source": []
  }
 ],
 "metadata": {
  "kernelspec": {
   "display_name": "Python 3 (ipykernel)",
   "language": "python",
   "name": "python3"
  },
  "language_info": {
   "codemirror_mode": {
    "name": "ipython",
    "version": 3
   },
   "file_extension": ".py",
   "mimetype": "text/x-python",
   "name": "python",
   "nbconvert_exporter": "python",
   "pygments_lexer": "ipython3",
   "version": "3.12.1"
  }
 },
 "nbformat": 4,
 "nbformat_minor": 5
}
